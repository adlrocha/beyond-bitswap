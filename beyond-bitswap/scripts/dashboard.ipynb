{
 "metadata": {
  "language_info": {
   "codemirror_mode": {
    "name": "ipython",
    "version": 3
   },
   "file_extension": ".py",
   "mimetype": "text/x-python",
   "name": "python",
   "nbconvert_exporter": "python",
   "pygments_lexer": "ipython3",
   "version": 3
  },
  "orig_nbformat": 2
 },
 "nbformat": 4,
 "nbformat_minor": 2,
 "cells": [
  {
   "cell_type": "code",
   "execution_count": null,
   "metadata": {},
   "outputs": [],
   "source": [
    "# Beyond Bitswap Test Bed\n",
    "In this "
   ]
  },
  {
   "cell_type": "code",
   "execution_count": null,
   "metadata": {},
   "outputs": [],
   "source": [
    "# Set up you use case parameters\n",
    "TESTCASE=\"ipfs-transfer\"\n",
    "INPUT_DATA = \"random\" # files, dir, random and custom supported.\n",
    "FILE_SIZE=\"15728640,31457280,47185920,57671680\" # If INPUT_DATA=random is selected choose the file sizes\n",
    "FILES_DIRECTORY=\"./inputData\" # Set directory from which to take files if INPUT_DATA=files\n",
    "RUN_COUNT=2\n",
    "\n",
    "# Set up Data Ingestion parameters\n",
    "# TODO\n",
    "CHUNKER=\n",
    "DAG_LAYOUT=\n",
    "\n",
    "# Set your network topology\n",
    "#TODO\n",
    "N_NODES=4       # TOTAL NUMBER OF NODES\n",
    "N_LEECHERS=1    # NUMBER OF LEECHERS\n",
    "N_SEEDERS=3     # NUMBER OF SEEDERS\n",
    "N_PASSIVE=0     # NUMBER OF PASSIVE NODES.\n",
    "MAX_CONNECTION_PEERS=100    # % OF CONNECTION FROM THE TOTAL NUMBER OF NODES ALLOWED\n",
    "CHURN_RATE=0.1          #CHURN RATE OF THE NETWORK.\n",
    "\n",
    "# Set your nodes parameters\n",
    "#TODO\n",
    "NODES_BANDWIDTH=    # PERCENTAGE OF NODES WITH X BANDWIDTH. (0.2, 150; 0.3, 100) = 20% 150MB; 30% 100MB; Rest default.\n",
    "NODES_LATENCY=\n",
    "NODES_JITTER=\n",
    "MAX_CPU=\n",
    "MAX_RAM=\n",
    "\n",
    "# Set your havoc parameters.\n",
    "#TODO\n",
    "ATTACK_TYPE=\n",
    "MALICIOUS_NODES=\n",
    "\n"
   ]
  }
 ]
}
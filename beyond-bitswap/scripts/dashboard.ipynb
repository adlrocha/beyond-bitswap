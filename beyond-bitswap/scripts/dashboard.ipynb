{
 "metadata": {
  "language_info": {
   "codemirror_mode": {
    "name": "ipython",
    "version": 3
   },
   "file_extension": ".py",
   "mimetype": "text/x-python",
   "name": "python",
   "nbconvert_exporter": "python",
   "pygments_lexer": "ipython3",
   "version": "3.8.2-final"
  },
  "orig_nbformat": 2,
  "kernelspec": {
   "name": "python38264bit903daaff972d42a981642e2de4b1a84b",
   "display_name": "Python 3.8.2 64-bit"
  }
 },
 "nbformat": 4,
 "nbformat_minor": 2,
 "cells": [
  {
   "cell_type": "code",
   "execution_count": null,
   "metadata": {},
   "outputs": [],
   "source": [
    "# Beyond Bitswap Test Bed\n",
    "# Be able to create a yaml file custom."
   ]
  },
  {
   "cell_type": "code",
   "execution_count": null,
   "metadata": {},
   "outputs": [],
   "source": [
    "# Building config\n",
    "import utils\n",
    "testid = runner(process_config(\"./config.yaml\"))\n",
    "collect_data(testid)"
   ]
  },
  {
   "cell_type": "code",
   "execution_count": 1,
   "metadata": {
    "tags": []
   },
   "outputs": [
    {
     "output_type": "stream",
     "name": "stdout",
     "text": "CompletedProcess(args=['ls'], returncode=0)\n"
    }
   ],
   "source": [
    "import process\n",
    "agg, testcases = aggregate_results()\n",
    "byLatency = groupBy(agg, \"latencyMS\")\n",
    "byNodeType = groupBy(agg, \"nodeType\")\n",
    "byFileSize = groupBy(agg, \"fileSize\")\n",
    "byBandwidth = groupBy(agg, \"bandwidthMB\")\n",
    "byTopology = groupBy(agg, \"topology\")"
   ]
  },
  {
   "cell_type": "code",
   "execution_count": null,
   "metadata": {},
   "outputs": [],
   "source": [
    "process.plot_latency(byLatency, byBandwidth, byFileSize)\n",
    "process.plot_messages(byFileSize, byTopology)\n",
    "process.plot_bw_overhead(byFileSize, byTopology)\n",
    "process.plot_througput(byLatency, byBandwidth, byFileSize, byTopology, testcases)"
   ]
  }
 ]
}